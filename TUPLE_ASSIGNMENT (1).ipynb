{
 "cells": [
  {
   "cell_type": "markdown",
   "id": "cd12b194",
   "metadata": {},
   "source": [
    "# Abeeha Zahid, FA25-BBD-007\n",
    "## Section: A\n",
    "## Tuple Assignment"
   ]
  },
  {
   "cell_type": "code",
   "execution_count": 1,
   "id": "74fa071c",
   "metadata": {
    "scrolled": false
   },
   "outputs": [
    {
     "name": "stdout",
     "output_type": "stream",
     "text": [
      "('Abeeha', 18, 1.63)\n",
      "18\n"
     ]
    }
   ],
   "source": [
    "my_info= ('Abeeha',18,1.63)\n",
    "print (my_info)\n",
    "print (my_info[1])"
   ]
  },
  {
   "cell_type": "code",
   "execution_count": 6,
   "id": "6cd2753e",
   "metadata": {},
   "outputs": [
    {
     "name": "stdout",
     "output_type": "stream",
     "text": [
      "<class 'tuple'>\n"
     ]
    }
   ],
   "source": [
    "single_day= ('Monday',)\n",
    "print (type(single_day))"
   ]
  },
  {
   "cell_type": "code",
   "execution_count": 3,
   "id": "06525054",
   "metadata": {},
   "outputs": [
    {
     "name": "stdout",
     "output_type": "stream",
     "text": [
      "Jupiter\n",
      "Earth\n"
     ]
    }
   ],
   "source": [
    "planets = ('Mercury', 'Venus', 'Earth', 'Mars', 'Jupiter')\n",
    "print (planets[-1])\n",
    "print (planets[-3])"
   ]
  },
  {
   "cell_type": "code",
   "execution_count": 4,
   "id": "8a8e4359",
   "metadata": {},
   "outputs": [
    {
     "name": "stdout",
     "output_type": "stream",
     "text": [
      "(1, 2, 3, 4, 5, 6)\n"
     ]
    }
   ],
   "source": [
    "front_numbers = (1, 2, 3)\n",
    "back_numbers = (4, 5, 6)\n",
    "combined_numbers= front_numbers+back_numbers\n",
    "print (combined_numbers)"
   ]
  },
  {
   "cell_type": "code",
   "execution_count": 5,
   "id": "3c83d597",
   "metadata": {},
   "outputs": [
    {
     "name": "stdout",
     "output_type": "stream",
     "text": [
      "('⭐', '⭐', '⭐')\n"
     ]
    }
   ],
   "source": [
    "icon = ('⭐',)\n",
    "ratings= icon*3\n",
    "print (ratings)"
   ]
  },
  {
   "cell_type": "code",
   "execution_count": 8,
   "id": "d7955405",
   "metadata": {},
   "outputs": [
    {
     "ename": "TypeError",
     "evalue": "'tuple' object does not support item assignment",
     "output_type": "error",
     "traceback": [
      "\u001b[1;31m---------------------------------------------------------------------------\u001b[0m",
      "\u001b[1;31mTypeError\u001b[0m                                 Traceback (most recent call last)",
      "Input \u001b[1;32mIn [8]\u001b[0m, in \u001b[0;36m<cell line: 2>\u001b[1;34m()\u001b[0m\n\u001b[0;32m      1\u001b[0m status \u001b[38;5;241m=\u001b[39m (\u001b[38;5;124m'\u001b[39m\u001b[38;5;124mpending\u001b[39m\u001b[38;5;124m'\u001b[39m, \u001b[38;5;124m'\u001b[39m\u001b[38;5;124mprocessing\u001b[39m\u001b[38;5;124m'\u001b[39m, \u001b[38;5;124m'\u001b[39m\u001b[38;5;124mcompleted\u001b[39m\u001b[38;5;124m'\u001b[39m)\n\u001b[1;32m----> 2\u001b[0m status[\u001b[38;5;241m0\u001b[39m]\u001b[38;5;241m=\u001b[39m(\u001b[38;5;124m'\u001b[39m\u001b[38;5;124mfailed\u001b[39m\u001b[38;5;124m'\u001b[39m)\n",
      "\u001b[1;31mTypeError\u001b[0m: 'tuple' object does not support item assignment"
     ]
    }
   ],
   "source": [
    "status = ('pending', 'processing', 'completed')\n",
    "status[0]=('failed')\n",
    "#TypeError occurs because a tuple is immutable so the elements can not be changed"
   ]
  },
  {
   "cell_type": "code",
   "execution_count": 10,
   "id": "7d9f553c",
   "metadata": {},
   "outputs": [
    {
     "name": "stdout",
     "output_type": "stream",
     "text": [
      "(30, 40, 50)\n",
      "(10, 20, 30, 40)\n"
     ]
    }
   ],
   "source": [
    "numbers=(10, 20, 30, 40, 50, 60, 70)\n",
    "print (numbers[2:5])\n",
    "print (numbers[:4])"
   ]
  },
  {
   "cell_type": "code",
   "execution_count": 12,
   "id": "12a7d55a",
   "metadata": {},
   "outputs": [
    {
     "name": "stdout",
     "output_type": "stream",
     "text": [
      "4\n",
      "4\n"
     ]
    }
   ],
   "source": [
    "results = ('pass', 'fail', 'pass', 'pass', 'defer', 'pass')\n",
    "print (results.count('pass'))\n",
    "print (results.index('defer'))"
   ]
  },
  {
   "cell_type": "code",
   "execution_count": null,
   "id": "1ede8017",
   "metadata": {},
   "outputs": [],
   "source": []
  }
 ],
 "metadata": {
  "kernelspec": {
   "display_name": "Python 3 (ipykernel)",
   "language": "python",
   "name": "python3"
  },
  "language_info": {
   "codemirror_mode": {
    "name": "ipython",
    "version": 3
   },
   "file_extension": ".py",
   "mimetype": "text/x-python",
   "name": "python",
   "nbconvert_exporter": "python",
   "pygments_lexer": "ipython3",
   "version": "3.9.12"
  }
 },
 "nbformat": 4,
 "nbformat_minor": 5
}
