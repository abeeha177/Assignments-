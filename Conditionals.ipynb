{
 "cells": [
  {
   "cell_type": "markdown",
   "id": "b3a79af1-1218-4bfb-b82b-e61bc6875e25",
   "metadata": {},
   "source": [
    "## Abeeha Zahid, FA25-BBD-007\n",
    "# Section A\n",
    "# Conditional assignment "
   ]
  },
  {
   "cell_type": "code",
   "execution_count": 1,
   "id": "087cb09d-5963-4a07-ae61-86bf69ff3f69",
   "metadata": {},
   "outputs": [
    {
     "name": "stdout",
     "output_type": "stream",
     "text": [
      "Number is zero.\n"
     ]
    }
   ],
   "source": [
    "number = 0\n",
    "if number == 0:\n",
    "    print (\"Number is zero.\")\n",
    "elif number > 0:\n",
    "    print (\"Number is positive.\")\n",
    "elif number < 0:\n",
    "    print (\"Number is negative.\")"
   ]
  },
  {
   "cell_type": "code",
   "execution_count": 2,
   "id": "72875881-099f-413c-a6e4-56faf284d7e9",
   "metadata": {},
   "outputs": [
    {
     "name": "stdout",
     "output_type": "stream",
     "text": [
      "Leap year.\n"
     ]
    }
   ],
   "source": [
    "year = 2028\n",
    "if year%4==0:\n",
    "    print (\"Leap year.\")\n",
    "else:\n",
    "    print (\"Not a leap year.\")"
   ]
  },
  {
   "cell_type": "code",
   "execution_count": 9,
   "id": "816a9832-af3e-438e-8384-fdaff2cf5dd6",
   "metadata": {},
   "outputs": [
    {
     "name": "stdout",
     "output_type": "stream",
     "text": [
      "Addition= 8\n",
      "Subtraction= -2\n",
      "Multiplication= 15\n",
      "Division= 0.6\n"
     ]
    }
   ],
   "source": [
    "num1 = 3\n",
    "num2 = 5\n",
    "print (\"Addition=\",num1+num2)\n",
    "print (\"Subtraction=\",num1-num2)\n",
    "print (\"Multiplication=\",num1*num2)\n",
    "print (\"Division=\",num1/num2)"
   ]
  },
  {
   "cell_type": "code",
   "execution_count": 8,
   "id": "aba31b7f-d669-4034-9566-2e01487c6417",
   "metadata": {},
   "outputs": [
    {
     "name": "stdout",
     "output_type": "stream",
     "text": [
      "Grade= B\n"
     ]
    }
   ],
   "source": [
    "marks=77\n",
    "if marks == 85 or marks>85:\n",
    "    print (\"Grade= A\")\n",
    "elif marks == 70 or marks<84:\n",
    "    print (\"Grade= B\")\n",
    "elif marks == 50 or marks<69:\n",
    "    print (\"Grade= C\")\n",
    "else:\n",
    "    print (\"Grade= F\")"
   ]
  }
 ],
 "metadata": {
  "kernelspec": {
   "display_name": "Python [conda env:base] *",
   "language": "python",
   "name": "conda-base-py"
  },
  "language_info": {
   "codemirror_mode": {
    "name": "ipython",
    "version": 3
   },
   "file_extension": ".py",
   "mimetype": "text/x-python",
   "name": "python",
   "nbconvert_exporter": "python",
   "pygments_lexer": "ipython3",
   "version": "3.13.5"
  }
 },
 "nbformat": 4,
 "nbformat_minor": 5
}
