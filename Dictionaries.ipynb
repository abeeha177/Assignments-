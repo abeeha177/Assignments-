{
 "cells": [
  {
   "cell_type": "markdown",
   "id": "f03a3d43-4b18-44bc-b098-1fcb36423dc6",
   "metadata": {},
   "source": [
    "# Abeeha Zahid \n",
    "## Section A\n",
    "## FA25-BBD-007"
   ]
  },
  {
   "cell_type": "code",
   "execution_count": 2,
   "id": "9fbb38ca-338a-4921-aac4-d8700634a58d",
   "metadata": {},
   "outputs": [
    {
     "name": "stdout",
     "output_type": "stream",
     "text": [
      "{'Name': 'Abeeha', 'Age': 18, 'City': 'Lahore', 'Hobbies': 'Sleeping'}\n"
     ]
    }
   ],
   "source": [
    "person_info= {\"Name\":\"Abeeha\",\"Age\":18,\"City\":\"Lahore\",\"Hobbies\":\"Sleeping\"}\n",
    "print (person_info)"
   ]
  },
  {
   "cell_type": "code",
   "execution_count": 3,
   "id": "84e953d4-0644-4063-b8ce-f2831223d59c",
   "metadata": {},
   "outputs": [
    {
     "name": "stdout",
     "output_type": "stream",
     "text": [
      "{'Apple': 100, 'Banana': 50, 'Mango': 90, 'Peach': 40}\n"
     ]
    }
   ],
   "source": [
    "fruit_inventory= {\"Apple\":100,\"Banana\":50,\"Mango\":90,\"Peach\":40}\n",
    "print (fruit_inventory)"
   ]
  },
  {
   "cell_type": "code",
   "execution_count": 7,
   "id": "8ac1e412-d001-485a-812e-12d3bfc04d0e",
   "metadata": {},
   "outputs": [
    {
     "name": "stdout",
     "output_type": "stream",
     "text": [
      "{'Math': 78, 'English': 77, 'Computer': 76, 'Urdu': 45, 'Science': 60}\n",
      "67.2\n"
     ]
    }
   ],
   "source": [
    "std_grade= {\"Math\":78,\"English\":77,\"Computer\":76,\"Urdu\":45,\"Science\":60}\n",
    "print (std_grade)\n",
    "avg_grade= sum(std_grade.values()) / len(std_grade)\n",
    "print (avg_grade)"
   ]
  },
  {
   "cell_type": "code",
   "execution_count": 24,
   "id": "5a151a35-90dd-4e22-852b-ab05ced0dd78",
   "metadata": {},
   "outputs": [
    {
     "name": "stdout",
     "output_type": "stream",
     "text": [
      "{'Name': 'Cap', 'Quantity': 4, 'Price': 50}\n",
      "{'Name': 'Cap', 'Quantity': 4, 'Price': 50, 'Name3': 'Straw'}\n",
      "{'Name': 'Cap', 'Quantity': 5, 'Price': 50, 'Name3': 'Straw'}\n",
      "Total inventory value is= 250\n"
     ]
    }
   ],
   "source": [
    "product= {\"Name\":\"Tumbler\",\"Quantity\":10,\"Price\":2000,\n",
    "          \"Name\":\"Cap\",\"Quantity\":4,\"Price\":50}\n",
    "print (product)\n",
    "product[\"Name3\"]=\"Straw\"\n",
    "print (product)\n",
    "product [\"Quantity\"]=5\n",
    "print (product)\n",
    "total_value=0\n",
    "for prod in product:\n",
    "    total_value=product[\"Quantity\"]*product[\"Price\"]\n",
    "print (\"Total inventory value is=\",total_value)\n",
    "for name,info in product.items():\n",
    "    if product[\"Quantity\"]<5:\n",
    "        print (\"Only {Quantity} {Name} left\")"
   ]
  },
  {
   "cell_type": "code",
   "execution_count": 42,
   "id": "7c49b2b0-f202-4577-8a17-b5f5de521b2c",
   "metadata": {},
   "outputs": [
    {
     "name": "stdout",
     "output_type": "stream",
     "text": [
      "Eman average grade is 78.0\n",
      "Areeba average grade is 71.5\n",
      "Nida average grade is 84.5\n"
     ]
    }
   ],
   "source": [
    "grades= {\"Eman\": [68,88],\n",
    "           \"Areeba\":[78,65],\n",
    "            \"Nida\": [90,79]}\n",
    "for student, marks in grades.items():\n",
    "    avg= sum(marks)/len(marks)\n",
    "    print (f\"{student.title()} average grade is {avg}\")"
   ]
  },
  {
   "cell_type": "code",
   "execution_count": null,
   "id": "a68535c7-fa9f-4ebe-8b9a-95b16dff7853",
   "metadata": {},
   "outputs": [],
   "source": []
  }
 ],
 "metadata": {
  "kernelspec": {
   "display_name": "Python [conda env:base] *",
   "language": "python",
   "name": "conda-base-py"
  },
  "language_info": {
   "codemirror_mode": {
    "name": "ipython",
    "version": 3
   },
   "file_extension": ".py",
   "mimetype": "text/x-python",
   "name": "python",
   "nbconvert_exporter": "python",
   "pygments_lexer": "ipython3",
   "version": "3.13.5"
  }
 },
 "nbformat": 4,
 "nbformat_minor": 5
}
