{
 "cells": [
  {
   "cell_type": "code",
   "execution_count": 36,
   "id": "5da743d8-cabe-4e43-a90c-65de92d898f7",
   "metadata": {},
   "outputs": [
    {
     "name": "stdout",
     "output_type": "stream",
     "text": [
      "2\n",
      "4\n",
      "6\n",
      "8\n",
      "10\n",
      "12\n",
      "14\n",
      "16\n",
      "18\n",
      "20\n"
     ]
    }
   ],
   "source": [
    "for num in range (2,21,2):\n",
    "    print (num)"
   ]
  },
  {
   "cell_type": "code",
   "execution_count": 37,
   "id": "6ea84f92-ce31-417a-b515-17d804df42ea",
   "metadata": {},
   "outputs": [
    {
     "name": "stdout",
     "output_type": "stream",
     "text": [
      "EMAN\n",
      "HAFSA\n",
      "ABEEHA\n"
     ]
    }
   ],
   "source": [
    "names = ['eman', 'hafsa', 'abeeha']\n",
    "for name in names:\n",
    "    print (name.upper())"
   ]
  },
  {
   "cell_type": "code",
   "execution_count": 38,
   "id": "3e16fc4e-b1f5-4568-bd18-72268f88bd06",
   "metadata": {},
   "outputs": [
    {
     "name": "stdout",
     "output_type": "stream",
     "text": [
      "10\n",
      "9\n",
      "8\n",
      "7\n",
      "6\n",
      "5\n",
      "4\n",
      "3\n",
      "2\n",
      "1\n"
     ]
    }
   ],
   "source": [
    "for num in range (10,0,-1):\n",
    "    print (num)"
   ]
  },
  {
   "cell_type": "code",
   "execution_count": 39,
   "id": "6d5623d4-d26a-4d6c-8f98-40b7e60c3d46",
   "metadata": {},
   "outputs": [
    {
     "name": "stdout",
     "output_type": "stream",
     "text": [
      "3\n",
      "6\n",
      "9\n",
      "12\n",
      "15\n"
     ]
    }
   ],
   "source": [
    "number= [1,2,3,4,5,6,7,8,9,10,11,12,13,14,15]\n",
    "for num in number:\n",
    "    if num%3==0:\n",
    "        print (num)"
   ]
  },
  {
   "cell_type": "code",
   "execution_count": 40,
   "id": "8c4bb6b0-3873-44c6-b388-1acb2c1295d2",
   "metadata": {},
   "outputs": [
    {
     "name": "stdout",
     "output_type": "stream",
     "text": [
      "1\n",
      "4\n",
      "9\n",
      "16\n",
      "25\n",
      "36\n",
      "49\n",
      "64\n",
      "81\n",
      "100\n"
     ]
    }
   ],
   "source": [
    "squares= [1,2,3,4,5,6,7,8,9,10]\n",
    "for square in squares:\n",
    "    print (square**2)"
   ]
  },
  {
   "cell_type": "code",
   "execution_count": 41,
   "id": "7545247b-ff2a-4921-992d-0b130c1b5576",
   "metadata": {},
   "outputs": [
    {
     "name": "stdout",
     "output_type": "stream",
     "text": [
      "50.0\n",
      "68.0\n",
      "86.0\n",
      "104.0\n"
     ]
    }
   ],
   "source": [
    "celsius= [10,20,30,40]\n",
    "for cels in celsius:\n",
    "    fahrenheit= (cels * 9/5) + 32\n",
    "    print (fahrenheit)"
   ]
  },
  {
   "cell_type": "code",
   "execution_count": 42,
   "id": "3ec1f088-1c79-47d6-96dc-b2ae725aa866",
   "metadata": {},
   "outputs": [
    {
     "name": "stdout",
     "output_type": "stream",
     "text": [
      "5\n",
      "10\n",
      "15\n",
      "20\n",
      "25\n",
      "30\n",
      "35\n",
      "40\n",
      "45\n",
      "50\n"
     ]
    }
   ],
   "source": [
    "for i in range (1,11):\n",
    "    print (i*5)"
   ]
  },
  {
   "cell_type": "code",
   "execution_count": 44,
   "id": "0a23e6b5",
   "metadata": {},
   "outputs": [
    {
     "name": "stdout",
     "output_type": "stream",
     "text": [
      "55\n"
     ]
    }
   ],
   "source": [
    "list = [1,2,3,4,5,6,7,8,9,10]\n",
    "total = sum(list)\n",
    "print (total)\n"
   ]
  },
  {
   "cell_type": "code",
   "execution_count": 46,
   "id": "65b8572d",
   "metadata": {},
   "outputs": [
    {
     "name": "stdout",
     "output_type": "stream",
     "text": [
      "H\n",
      "e\n",
      "l\n",
      "l\n",
      "o\n"
     ]
    }
   ],
   "source": [
    "string = \"Hello\"\n",
    "for char in string:\n",
    "    print (char)"
   ]
  },
  {
   "cell_type": "code",
   "execution_count": 49,
   "id": "a878be43",
   "metadata": {},
   "outputs": [
    {
     "name": "stdout",
     "output_type": "stream",
     "text": [
      "Laptop\n",
      "Tablet\n"
     ]
    }
   ],
   "source": [
    "words = ['Phone','Laptop','Tablet']\n",
    "for word in words:\n",
    "    if (len(word)>5):\n",
    "        print (word)"
   ]
  }
 ],
 "metadata": {
  "kernelspec": {
   "display_name": "base",
   "language": "python",
   "name": "python3"
  },
  "language_info": {
   "codemirror_mode": {
    "name": "ipython",
    "version": 3
   },
   "file_extension": ".py",
   "mimetype": "text/x-python",
   "name": "python",
   "nbconvert_exporter": "python",
   "pygments_lexer": "ipython3",
   "version": "3.13.5"
  }
 },
 "nbformat": 4,
 "nbformat_minor": 5
}
